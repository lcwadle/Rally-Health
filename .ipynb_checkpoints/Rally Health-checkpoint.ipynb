{
 "cells": [
  {
   "cell_type": "markdown",
   "metadata": {},
   "source": [
    "# Rally Health Programming Question\n",
    "\n",
    "Your task is to transform one word into another, with four operations: add a letter, delete a letter, change a letter, and take an anagram of the existing word.  \n",
    "\n",
    "Additionally, you have to ovey the following rules:\n",
    "* Every iterim step between the first and the last word must also be a word\n",
    "* No iterim step can be less than three letters\n",
    "* The first line of input will contain the \"cost\" of each operation in the order above\n",
    "* The second line of input will contain the starting word\n",
    "* The first line of input will contain the ending word\n",
    "\n",
    "Your goal is to find the lowest possible \"cost\" of transforming the starting word into the ending word.  You can use any word list you like -- feel free to include your word list or a link to it as part of your solution.\n",
    "\n",
    "You solution should detect and handle invalid input and return -1 if there is no solution."
   ]
  },
  {
   "cell_type": "markdown",
   "metadata": {},
   "source": [
    "### Examples\n",
    "\n",
    "##### Input\n",
    "1315\n",
    "HEALTH\n",
    "HANDS\n",
    "\n",
    "##### Output\n",
    "7 (HEALTH - HEATH - HEATS - HENTS - HENDS - HANDS\n",
    "\n",
    "##### Input\n",
    "1913\n",
    "TEAM\n",
    "MATE\n",
    "\n",
    "##### Output\n",
    "3 (TEAM - MATE)\n",
    "\n",
    "##### Input\n",
    "7152\n",
    "OPHTHALMOLOGY\n",
    "GLASSES\n",
    "\n",
    "##### Output\n",
    "-1"
   ]
  },
  {
   "cell_type": "markdown",
   "metadata": {},
   "source": [
    "## Solution"
   ]
  },
  {
   "cell_type": "markdown",
   "metadata": {},
   "source": [
    "### Required framworks\n",
    "* python=3.6\n",
    "* nltk\n",
    "* jupyter notebook"
   ]
  },
  {
   "cell_type": "markdown",
   "metadata": {},
   "source": [
    "### Word List"
   ]
  },
  {
   "cell_type": "code",
   "execution_count": null,
   "metadata": {},
   "outputs": [],
   "source": [
    "# DO NOT RUN - Words corpus has already been downloaded\n",
    "import nltk\n",
    "\n",
    "nltk.download()"
   ]
  },
  {
   "cell_type": "markdown",
   "metadata": {},
   "source": [
    "### Word Functions\n",
    "Code for the 4 available operations based on the problem description with test cases to ensure the functions work appropriately."
   ]
  },
  {
   "cell_type": "code",
   "execution_count": 170,
   "metadata": {
    "scrolled": false
   },
   "outputs": [],
   "source": [
    "from nltk.corpus import words\n",
    "\n",
    "word_list = words.words()"
   ]
  },
  {
   "cell_type": "code",
   "execution_count": 171,
   "metadata": {},
   "outputs": [
    {
     "name": "stdout",
     "output_type": "stream",
     "text": [
      "['A', 'a', 'aa', 'aal', 'aalii', 'aam', 'Aani', 'aardvark', 'aardwolf', 'Aaron', 'Aaronic', 'Aaronical', 'Aaronite', 'Aaronitic', 'Aaru', 'Ab', 'aba', 'Ababdeh', 'Ababua', 'abac']\n"
     ]
    }
   ],
   "source": [
    "# Test - First 20 words\n",
    "print(word_list[:20])"
   ]
  },
  {
   "cell_type": "markdown",
   "metadata": {},
   "source": [
    "#### Add Letter"
   ]
  },
  {
   "cell_type": "code",
   "execution_count": 172,
   "metadata": {
    "collapsed": true
   },
   "outputs": [],
   "source": [
    "def addLetter(word, index, letter):\n",
    "    new_word = word[:index] + letter + word[index:]\n",
    "    return new_word"
   ]
  },
  {
   "cell_type": "code",
   "execution_count": 173,
   "metadata": {},
   "outputs": [
    {
     "name": "stdout",
     "output_type": "stream",
     "text": [
      "WORDS\n"
     ]
    }
   ],
   "source": [
    "# Test 1 - Adding letter to end of word\n",
    "# WORD -> WORDS\n",
    "\n",
    "word = addLetter(\"WORD\", 4, 'S')\n",
    "print(word)"
   ]
  },
  {
   "cell_type": "code",
   "execution_count": 174,
   "metadata": {},
   "outputs": [
    {
     "name": "stdout",
     "output_type": "stream",
     "text": [
      "SWORD\n"
     ]
    }
   ],
   "source": [
    "# Test 2 - Adding letter to beginning of word\n",
    "# WORD -> SWORD\n",
    "\n",
    "word = addLetter(\"WORD\", 0, 'S')\n",
    "print(word)"
   ]
  },
  {
   "cell_type": "code",
   "execution_count": 175,
   "metadata": {},
   "outputs": [
    {
     "name": "stdout",
     "output_type": "stream",
     "text": [
      "WORLD\n"
     ]
    }
   ],
   "source": [
    "# Test 3 - Adding letter into middle of word\n",
    "# WORD -> WORLD\n",
    "\n",
    "word = addLetter(\"WORD\", 3, 'L')\n",
    "print(word)"
   ]
  },
  {
   "cell_type": "markdown",
   "metadata": {},
   "source": [
    "#### Delete Letter"
   ]
  },
  {
   "cell_type": "code",
   "execution_count": 176,
   "metadata": {
    "collapsed": true
   },
   "outputs": [],
   "source": [
    "def deleteLetter(word, index):\n",
    "    new_word = word[:index] + word[index+1:]\n",
    "    return new_word"
   ]
  },
  {
   "cell_type": "code",
   "execution_count": 177,
   "metadata": {},
   "outputs": [
    {
     "name": "stdout",
     "output_type": "stream",
     "text": [
      "WORD\n"
     ]
    }
   ],
   "source": [
    "# Test 1 - Delete first letter\n",
    "# SWORD -> WORD\n",
    "\n",
    "word = deleteLetter(\"SWORD\", 0)\n",
    "print(word)"
   ]
  },
  {
   "cell_type": "code",
   "execution_count": 178,
   "metadata": {},
   "outputs": [
    {
     "name": "stdout",
     "output_type": "stream",
     "text": [
      "WORD\n"
     ]
    }
   ],
   "source": [
    "# Test 2 - Delete last letter\n",
    "# WORDS -> WORD\n",
    "\n",
    "word = deleteLetter(\"WORDS\", 4)\n",
    "print(word)"
   ]
  },
  {
   "cell_type": "code",
   "execution_count": 179,
   "metadata": {},
   "outputs": [
    {
     "name": "stdout",
     "output_type": "stream",
     "text": [
      "WORDS\n"
     ]
    }
   ],
   "source": [
    "# Test 3 - Delete middle letter\n",
    "# WORLDS -> WORDS\n",
    "\n",
    "word = deleteLetter(\"WORLDS\", 3)\n",
    "print(word)"
   ]
  },
  {
   "cell_type": "markdown",
   "metadata": {},
   "source": [
    "#### Change Letter"
   ]
  },
  {
   "cell_type": "code",
   "execution_count": 180,
   "metadata": {
    "collapsed": true
   },
   "outputs": [],
   "source": [
    "def changeLetter(word, index, letter):\n",
    "    new_word = word[:index] + letter + word[index+1:]\n",
    "    return new_word"
   ]
  },
  {
   "cell_type": "code",
   "execution_count": 181,
   "metadata": {},
   "outputs": [
    {
     "name": "stdout",
     "output_type": "stream",
     "text": [
      "BELL\n"
     ]
    }
   ],
   "source": [
    "# Test 1 - Change first letter\n",
    "# WELL -> BELL\n",
    "\n",
    "word = changeLetter(\"WELL\", 0, 'B')\n",
    "print(word)"
   ]
  },
  {
   "cell_type": "code",
   "execution_count": 182,
   "metadata": {},
   "outputs": [
    {
     "name": "stdout",
     "output_type": "stream",
     "text": [
      "WELT\n"
     ]
    }
   ],
   "source": [
    "# Test 2 - Change last letter\n",
    "# WELL -> WELT\n",
    "\n",
    "word = changeLetter(\"WELL\", 3, 'T')\n",
    "print(word)"
   ]
  },
  {
   "cell_type": "code",
   "execution_count": 183,
   "metadata": {},
   "outputs": [
    {
     "name": "stdout",
     "output_type": "stream",
     "text": [
      "HIM\n"
     ]
    }
   ],
   "source": [
    "# Test 3 - Change middle letter\n",
    "# HUM -> HIM\n",
    "\n",
    "word = changeLetter(\"HUM\", 1, 'I')\n",
    "print(word)"
   ]
  },
  {
   "cell_type": "markdown",
   "metadata": {},
   "source": [
    "#### Anagram"
   ]
  },
  {
   "cell_type": "code",
   "execution_count": 184,
   "metadata": {
    "collapsed": true
   },
   "outputs": [],
   "source": [
    "import itertools\n",
    "\n",
    "def getAnagrams(word):\n",
    "    return itertools.permutations(word)"
   ]
  },
  {
   "cell_type": "code",
   "execution_count": 185,
   "metadata": {},
   "outputs": [
    {
     "name": "stdout",
     "output_type": "stream",
     "text": [
      "STEAK\n",
      "STEKA\n",
      "STAEK\n",
      "STAKE\n",
      "STKEA\n",
      "STKAE\n",
      "SETAK\n",
      "SETKA\n",
      "SEATK\n",
      "SEAKT\n",
      "SEKTA\n",
      "SEKAT\n",
      "SATEK\n",
      "SATKE\n",
      "SAETK\n",
      "SAEKT\n",
      "SAKTE\n",
      "SAKET\n",
      "SKTEA\n",
      "SKTAE\n",
      "SKETA\n",
      "SKEAT\n",
      "SKATE\n",
      "SKAET\n",
      "TSEAK\n",
      "TSEKA\n",
      "TSAEK\n",
      "TSAKE\n",
      "TSKEA\n",
      "TSKAE\n",
      "TESAK\n",
      "TESKA\n",
      "TEASK\n",
      "TEAKS\n",
      "TEKSA\n",
      "TEKAS\n",
      "TASEK\n",
      "TASKE\n",
      "TAESK\n",
      "TAEKS\n",
      "TAKSE\n",
      "TAKES\n",
      "TKSEA\n",
      "TKSAE\n",
      "TKESA\n",
      "TKEAS\n",
      "TKASE\n",
      "TKAES\n",
      "ESTAK\n",
      "ESTKA\n",
      "ESATK\n",
      "ESAKT\n",
      "ESKTA\n",
      "ESKAT\n",
      "ETSAK\n",
      "ETSKA\n",
      "ETASK\n",
      "ETAKS\n",
      "ETKSA\n",
      "ETKAS\n",
      "EASTK\n",
      "EASKT\n",
      "EATSK\n",
      "EATKS\n",
      "EAKST\n",
      "EAKTS\n",
      "EKSTA\n",
      "EKSAT\n",
      "EKTSA\n",
      "EKTAS\n",
      "EKAST\n",
      "EKATS\n",
      "ASTEK\n",
      "ASTKE\n",
      "ASETK\n",
      "ASEKT\n",
      "ASKTE\n",
      "ASKET\n",
      "ATSEK\n",
      "ATSKE\n",
      "ATESK\n",
      "ATEKS\n",
      "ATKSE\n",
      "ATKES\n",
      "AESTK\n",
      "AESKT\n",
      "AETSK\n",
      "AETKS\n",
      "AEKST\n",
      "AEKTS\n",
      "AKSTE\n",
      "AKSET\n",
      "AKTSE\n",
      "AKTES\n",
      "AKEST\n",
      "AKETS\n",
      "KSTEA\n",
      "KSTAE\n",
      "KSETA\n",
      "KSEAT\n",
      "KSATE\n",
      "KSAET\n",
      "KTSEA\n",
      "KTSAE\n",
      "KTESA\n",
      "KTEAS\n",
      "KTASE\n",
      "KTAES\n",
      "KESTA\n",
      "KESAT\n",
      "KETSA\n",
      "KETAS\n",
      "KEAST\n",
      "KEATS\n",
      "KASTE\n",
      "KASET\n",
      "KATSE\n",
      "KATES\n",
      "KAEST\n",
      "KAETS\n"
     ]
    }
   ],
   "source": [
    "# Test 1\n",
    "# STEAK\n",
    "\n",
    "words = getAnagrams(\"STEAK\")\n",
    "for word in words:\n",
    "    word = \"\".join(word)\n",
    "    print(word)"
   ]
  },
  {
   "cell_type": "code",
   "execution_count": 186,
   "metadata": {},
   "outputs": [
    {
     "name": "stdout",
     "output_type": "stream",
     "text": [
      "STEAK\n",
      "STAKE\n",
      "SKATE\n"
     ]
    }
   ],
   "source": [
    "# Test 2 - Only words\n",
    "# STEAK\n",
    "\n",
    "words = getAnagrams(\"STEAK\")\n",
    "for word in words:\n",
    "        word = \"\".join(word)\n",
    "        if word.lower() in word_list:\n",
    "            print(word)"
   ]
  },
  {
   "cell_type": "markdown",
   "metadata": {},
   "source": [
    "#### State class"
   ]
  },
  {
   "cell_type": "code",
   "execution_count": 187,
   "metadata": {
    "collapsed": true
   },
   "outputs": [],
   "source": [
    "class State: \n",
    "    def __init__(self, word, cost):\n",
    "        self.word = word\n",
    "        self.cost = cost     \n",
    "        self.distance = 0\n",
    "        \n",
    "    def calcDistance(self, end_word):\n",
    "        \n",
    "        # Get frequency of letters in word\n",
    "        letter_dict = {}\n",
    "        \n",
    "        for letter in self.word:\n",
    "            if letter in letter_dict:\n",
    "                letter_dict[letter] += 1\n",
    "            else:\n",
    "                letter_dict[letter] = 1\n",
    "        \n",
    "        # Compare new_word letter frequency to word\n",
    "        for letter in end_word:\n",
    "            if letter in letter_dict:\n",
    "                letter_dict[letter] -= 1\n",
    "            else:\n",
    "                letter_dict[letter] = -1\n",
    "                \n",
    "        # Calculate distance\n",
    "        distance = 0\n",
    "        \n",
    "        for letter in letter_dict:\n",
    "            distance += abs(letter_dict[letter])\n",
    "                        \n",
    "        self.distance = distance\n",
    "        \n",
    "explored = []"
   ]
  },
  {
   "cell_type": "markdown",
   "metadata": {},
   "source": [
    "#### Get States from the addition operation"
   ]
  },
  {
   "cell_type": "code",
   "execution_count": 188,
   "metadata": {
    "collapsed": true
   },
   "outputs": [],
   "source": [
    "def getAddStates(state, states, cost, end_word):\n",
    "    for i in range(0, len(state.word)+1):\n",
    "        for j in range(ord('A'), ord('Z')+1):\n",
    "            new_word = addLetter(state.word, i, chr(j))  \n",
    "            if new_word.lower() in word_list and new_word+str(state.cost + cost) not in explored:\n",
    "                new_state = State(new_word, state.cost + cost)\n",
    "                new_state.calcDistance(end_word)\n",
    "                \n",
    "                states.append(new_state)"
   ]
  },
  {
   "cell_type": "code",
   "execution_count": 189,
   "metadata": {},
   "outputs": [
    {
     "name": "stdout",
     "output_type": "stream",
     "text": [
      "SWORD - 1 - 0\n",
      "WORLD - 1 - 2\n",
      "WORDY - 1 - 2\n"
     ]
    }
   ],
   "source": [
    "# Test\n",
    "states = []\n",
    "initial_state = State(\"WORD\", 0)\n",
    "\n",
    "getAddStates(initial_state, states, 1, \"SWORD\")\n",
    "\n",
    "for state in states:\n",
    "    print(state.word + \" - \" + str(state.cost) + \" - \" + str(state.distance))"
   ]
  },
  {
   "cell_type": "markdown",
   "metadata": {},
   "source": [
    "#### Get States from the deletion operation"
   ]
  },
  {
   "cell_type": "code",
   "execution_count": 190,
   "metadata": {
    "collapsed": true
   },
   "outputs": [],
   "source": [
    "def getDeleteStates(state, states, cost, end_word):\n",
    "    for i in range(0, len(state.word)):\n",
    "        new_word = deleteLetter(state.word, i)  \n",
    "        if new_word.lower() in word_list and new_word+str(state.cost + cost) not in explored:\n",
    "            new_state = State(new_word, state.cost + cost)\n",
    "            new_state.calcDistance(end_word)\n",
    "            \n",
    "            states.append(new_state)"
   ]
  },
  {
   "cell_type": "code",
   "execution_count": 191,
   "metadata": {},
   "outputs": [
    {
     "name": "stdout",
     "output_type": "stream",
     "text": [
      "NORMA - 1 - 1\n"
     ]
    }
   ],
   "source": [
    "# Test\n",
    "states = []\n",
    "initial_state = State(\"NORMAL\", 0)\n",
    "\n",
    "getDeleteStates(initial_state, states, 1, \"NORM\")\n",
    "\n",
    "for state in states:\n",
    "    print(state.word + \" - \" + str(state.cost) + \" - \" + str(state.distance))"
   ]
  },
  {
   "cell_type": "markdown",
   "metadata": {},
   "source": [
    "#### Get States from the change operation"
   ]
  },
  {
   "cell_type": "code",
   "execution_count": 192,
   "metadata": {
    "collapsed": true
   },
   "outputs": [],
   "source": [
    "def getChangeStates(state, states, cost, end_word):\n",
    "    for i in range(0, len(state.word)):\n",
    "        for j in range(ord('A'), ord('Z')+1):\n",
    "            if state.word[i] != chr(j):\n",
    "                new_word = changeLetter(state.word, i, chr(j))  \n",
    "                if new_word.lower() in word_list and new_word+str(state.cost + cost) not in explored:\n",
    "                    new_state = State(new_word, state.cost + cost)\n",
    "                    new_state.calcDistance(end_word)\n",
    "                    \n",
    "                    states.append(new_state)"
   ]
  },
  {
   "cell_type": "code",
   "execution_count": 193,
   "metadata": {},
   "outputs": [
    {
     "name": "stdout",
     "output_type": "stream",
     "text": [
      "BORN - 1 - 0\n",
      "CORN - 1 - 2\n",
      "DORN - 1 - 2\n",
      "HORN - 1 - 2\n",
      "LORN - 1 - 2\n",
      "MORN - 1 - 2\n",
      "SORN - 1 - 2\n",
      "TORN - 1 - 2\n",
      "WARN - 1 - 4\n",
      "WOAN - 1 - 4\n",
      "WOON - 1 - 4\n",
      "WORD - 1 - 4\n",
      "WORE - 1 - 4\n",
      "WORK - 1 - 4\n",
      "WORM - 1 - 4\n",
      "WORT - 1 - 4\n"
     ]
    }
   ],
   "source": [
    "# Test\n",
    "states = []\n",
    "initial_state = State(\"WORN\", 0)\n",
    "\n",
    "getChangeStates(initial_state, states, 1, \"BORN\")\n",
    "\n",
    "for state in states:\n",
    "    print(state.word + \" - \" + str(state.cost) + \" - \" + str(state.distance))"
   ]
  },
  {
   "cell_type": "markdown",
   "metadata": {},
   "source": [
    "#### Get States from anagram operation"
   ]
  },
  {
   "cell_type": "code",
   "execution_count": 194,
   "metadata": {},
   "outputs": [],
   "source": [
    "def getAnagramStates(state, states, cost, end_word):\n",
    "    new_words = getAnagrams(state.word)\n",
    "    for new_word in new_words:\n",
    "        new_word = \"\".join(new_word)\n",
    "        if new_word != state.word and new_word.lower() in word_list and new_word+str(state.cost + cost) not in explored:\n",
    "            new_state = State(new_word, state.cost + cost)\n",
    "            new_state.calcDistance(end_word)\n",
    "            \n",
    "            states.append(new_state)           "
   ]
  },
  {
   "cell_type": "code",
   "execution_count": 195,
   "metadata": {},
   "outputs": [
    {
     "name": "stdout",
     "output_type": "stream",
     "text": [
      "STAKE - 1 - 0\n",
      "SKATE - 1 - 0\n"
     ]
    }
   ],
   "source": [
    "# Test\n",
    "states = []\n",
    "initial_state = State(\"STEAK\", 0)\n",
    "\n",
    "getAnagramStates(initial_state, states, 1, \"STAKE\")\n",
    "\n",
    "for state in states:\n",
    "    print(state.word + \" - \" + str(state.cost) + \" - \" + str(state.distance))"
   ]
  },
  {
   "cell_type": "markdown",
   "metadata": {},
   "source": [
    "#### Solution function - main loop"
   ]
  },
  {
   "cell_type": "code",
   "execution_count": null,
   "metadata": {},
   "outputs": [],
   "source": [
    "def solution(costs, begin_word, end_word):\n",
    "    \n",
    "    # Define function costs\n",
    "    add_cost = int(costs[0])\n",
    "    delete_cost = int(costs[1])\n",
    "    change_cost = int(costs[2])\n",
    "    anagram_cost = int(costs[3])\n",
    "    \n",
    "    # Initial State\n",
    "    init_state = State(begin_word, 0)\n",
    "    init_state.calcDistance(end_word)\n",
    "    \n",
    "    # Define possible states\n",
    "    states = []\n",
    "    getAddStates(init_state, states, add_cost, end_word)\n",
    "    getDeleteStates(init_state, states, delete_cost, end_word)\n",
    "    getChangeStates(init_state, states, change_cost, end_word)\n",
    "    getAnagramStates(init_state, states, anagram_cost, end_word)\n",
    "    \n",
    "    # Explored states\n",
    "    explored.append(init_state.word+str(0))\n",
    "    \n",
    "    # Loop until goal or states = []\n",
    "    while states != []:\n",
    "    \n",
    "        # Find lowest cost state\n",
    "        states = sorted(states, key=lambda state: state.cost+state.distance)\n",
    "        \n",
    "        for state in states:\n",
    "            print(state.word + \" - \" + str(state.cost) + \" - \" + str(state.distance))\n",
    "                \n",
    "        input()        \n",
    "        \n",
    "        # Pop lowest state\n",
    "        new_state = states.pop()\n",
    "        explored.append(new_state.word+str(new_state.cost))\n",
    "        print(new_state.word + \" - \" + str(new_state.cost) + \" - \" + str(new_state.distance))\n",
    "\n",
    "        # Check is state is goal state\n",
    "        if new_state.word == end_word:\n",
    "            return new_state.cost\n",
    "        \n",
    "        # Expand new_state\n",
    "        getAddStates(new_state, states, add_cost, end_word)\n",
    "        getDeleteStates(new_state, states, delete_cost, end_word)\n",
    "        getChangeStates(new_state, states, change_cost, end_word)\n",
    "        getAnagramStates(new_state, states, anagram_cost, end_word)"
   ]
  },
  {
   "cell_type": "code",
   "execution_count": null,
   "metadata": {},
   "outputs": [],
   "source": [
    "# Test\n",
    "# 1315\n",
    "# HEALTH\n",
    "# HANDS\n",
    "\n",
    "print(solution(\"1913\", \"TEAM\", \"MATE\"))"
   ]
  },
  {
   "cell_type": "code",
   "execution_count": 167,
   "metadata": {},
   "outputs": [
    {
     "name": "stdout",
     "output_type": "stream",
     "text": [
      "False\n"
     ]
    }
   ],
   "source": [
    "print(\"heats\" in word_list)"
   ]
  },
  {
   "cell_type": "code",
   "execution_count": null,
   "metadata": {
    "collapsed": true
   },
   "outputs": [],
   "source": []
  }
 ],
 "metadata": {
  "kernelspec": {
   "display_name": "Python 3",
   "language": "python",
   "name": "python3"
  },
  "language_info": {
   "codemirror_mode": {
    "name": "ipython",
    "version": 3
   },
   "file_extension": ".py",
   "mimetype": "text/x-python",
   "name": "python",
   "nbconvert_exporter": "python",
   "pygments_lexer": "ipython3",
   "version": "3.6.2"
  }
 },
 "nbformat": 4,
 "nbformat_minor": 2
}
