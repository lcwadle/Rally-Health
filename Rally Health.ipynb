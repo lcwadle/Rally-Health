{
 "cells": [
  {
   "cell_type": "markdown",
   "metadata": {},
   "source": [
    "# Rally Health Programming Question\n",
    "\n",
    "Your task is to transform one word into another, with four operations: add a letter, delete a letter, change a letter, and take an anagram of the existing word.  \n",
    "\n",
    "Additionally, you have to ovey the following rules:\n",
    "* Every iterim step between the first and the last word must also be a word\n",
    "* No iterim step can be less than three letters\n",
    "* The first line of input will contain the \"cost\" of each operation in the order above\n",
    "* The second line of input will contain the starting word\n",
    "* The first line of input will contain the ending word\n",
    "\n",
    "Your goal is to find the lowest possible \"cost\" of transforming the starting word into the ending word.  You can use any word list you like -- feel free to include your word list or a link to it as part of your solution.\n",
    "\n",
    "You solution should detect and handle invalid input and return -1 if there is no solution."
   ]
  },
  {
   "cell_type": "markdown",
   "metadata": {},
   "source": [
    "### Examples\n",
    "\n",
    "##### Input\n",
    "1315\n",
    "HEALTH\n",
    "HANDS\n",
    "\n",
    "##### Output\n",
    "7 (HEALTH - HEATH - HEATS - HENTS - HENDS - HANDS\n",
    "\n",
    "##### Input\n",
    "1913\n",
    "TEAM\n",
    "MATE\n",
    "\n",
    "##### Output\n",
    "3 (TEAM - MATE)\n",
    "\n",
    "##### Input\n",
    "7152\n",
    "OPHTHALMOLOGY\n",
    "GLASSES\n",
    "\n",
    "##### Output\n",
    "-1"
   ]
  },
  {
   "cell_type": "markdown",
   "metadata": {},
   "source": [
    "## Solution"
   ]
  },
  {
   "cell_type": "markdown",
   "metadata": {},
   "source": [
    "### Required framworks\n",
    "* python=3.6\n",
    "* nltk\n",
    "* jupyter notebook"
   ]
  },
  {
   "cell_type": "markdown",
   "metadata": {},
   "source": [
    "### Word List"
   ]
  },
  {
   "cell_type": "code",
   "execution_count": 118,
   "metadata": {},
   "outputs": [],
   "source": [
    "# DO NOT RUN - Words corpus has already been downloaded\n",
    "import nltk\n",
    "\n",
    "#nltk.download()"
   ]
  },
  {
   "cell_type": "markdown",
   "metadata": {},
   "source": [
    "### Word Functions\n",
    "Code for the 4 available operations based on the problem description with test cases to ensure the functions work appropriately."
   ]
  },
  {
   "cell_type": "code",
   "execution_count": 119,
   "metadata": {
    "collapsed": true,
    "scrolled": false
   },
   "outputs": [],
   "source": [
    "from nltk.corpus import words\n",
    "\n",
    "word_list = words.words()"
   ]
  },
  {
   "cell_type": "code",
   "execution_count": 120,
   "metadata": {},
   "outputs": [
    {
     "name": "stdout",
     "output_type": "stream",
     "text": [
      "['A', 'a', 'aa', 'aal', 'aalii', 'aam', 'Aani', 'aardvark', 'aardwolf', 'Aaron', 'Aaronic', 'Aaronical', 'Aaronite', 'Aaronitic', 'Aaru', 'Ab', 'aba', 'Ababdeh', 'Ababua', 'abac']\n"
     ]
    }
   ],
   "source": [
    "# Test - First 20 words\n",
    "print(word_list[:20])"
   ]
  },
  {
   "cell_type": "markdown",
   "metadata": {},
   "source": [
    "#### Add Letter"
   ]
  },
  {
   "cell_type": "code",
   "execution_count": 121,
   "metadata": {
    "collapsed": true
   },
   "outputs": [],
   "source": [
    "def addLetter(word, index, letter):\n",
    "    new_word = word[:index] + letter + word[index:]\n",
    "    return new_word"
   ]
  },
  {
   "cell_type": "code",
   "execution_count": 122,
   "metadata": {},
   "outputs": [
    {
     "name": "stdout",
     "output_type": "stream",
     "text": [
      "WORDS\n"
     ]
    }
   ],
   "source": [
    "# Test 1 - Adding letter to end of word\n",
    "# WORD -> WORDS\n",
    "\n",
    "word = addLetter(\"WORD\", 4, 'S')\n",
    "print(word)"
   ]
  },
  {
   "cell_type": "code",
   "execution_count": 123,
   "metadata": {},
   "outputs": [
    {
     "name": "stdout",
     "output_type": "stream",
     "text": [
      "SWORD\n"
     ]
    }
   ],
   "source": [
    "# Test 2 - Adding letter to beginning of word\n",
    "# WORD -> SWORD\n",
    "\n",
    "word = addLetter(\"WORD\", 0, 'S')\n",
    "print(word)"
   ]
  },
  {
   "cell_type": "code",
   "execution_count": 124,
   "metadata": {},
   "outputs": [
    {
     "name": "stdout",
     "output_type": "stream",
     "text": [
      "WORLD\n"
     ]
    }
   ],
   "source": [
    "# Test 3 - Adding letter into middle of word\n",
    "# WORD -> WORLD\n",
    "\n",
    "word = addLetter(\"WORD\", 3, 'L')\n",
    "print(word)"
   ]
  },
  {
   "cell_type": "markdown",
   "metadata": {},
   "source": [
    "#### Delete Letter"
   ]
  },
  {
   "cell_type": "code",
   "execution_count": 125,
   "metadata": {
    "collapsed": true
   },
   "outputs": [],
   "source": [
    "def deleteLetter(word, index):\n",
    "    new_word = word[:index] + word[index+1:]\n",
    "    return new_word"
   ]
  },
  {
   "cell_type": "code",
   "execution_count": 126,
   "metadata": {},
   "outputs": [
    {
     "name": "stdout",
     "output_type": "stream",
     "text": [
      "WORD\n"
     ]
    }
   ],
   "source": [
    "# Test 1 - Delete first letter\n",
    "# SWORD -> WORD\n",
    "\n",
    "word = deleteLetter(\"SWORD\", 0)\n",
    "print(word)"
   ]
  },
  {
   "cell_type": "code",
   "execution_count": 127,
   "metadata": {},
   "outputs": [
    {
     "name": "stdout",
     "output_type": "stream",
     "text": [
      "WORD\n"
     ]
    }
   ],
   "source": [
    "# Test 2 - Delete last letter\n",
    "# WORDS -> WORD\n",
    "\n",
    "word = deleteLetter(\"WORDS\", 4)\n",
    "print(word)"
   ]
  },
  {
   "cell_type": "code",
   "execution_count": 128,
   "metadata": {},
   "outputs": [
    {
     "name": "stdout",
     "output_type": "stream",
     "text": [
      "WORDS\n"
     ]
    }
   ],
   "source": [
    "# Test 3 - Delete middle letter\n",
    "# WORLDS -> WORDS\n",
    "\n",
    "word = deleteLetter(\"WORLDS\", 3)\n",
    "print(word)"
   ]
  },
  {
   "cell_type": "markdown",
   "metadata": {},
   "source": [
    "#### Change Letter"
   ]
  },
  {
   "cell_type": "code",
   "execution_count": 129,
   "metadata": {
    "collapsed": true
   },
   "outputs": [],
   "source": [
    "def changeLetter(word, index, letter):\n",
    "    new_word = word[:index] + letter + word[index+1:]\n",
    "    return new_word"
   ]
  },
  {
   "cell_type": "code",
   "execution_count": 130,
   "metadata": {},
   "outputs": [
    {
     "name": "stdout",
     "output_type": "stream",
     "text": [
      "BELL\n"
     ]
    }
   ],
   "source": [
    "# Test 1 - Change first letter\n",
    "# WELL -> BELL\n",
    "\n",
    "word = changeLetter(\"WELL\", 0, 'B')\n",
    "print(word)"
   ]
  },
  {
   "cell_type": "code",
   "execution_count": 131,
   "metadata": {},
   "outputs": [
    {
     "name": "stdout",
     "output_type": "stream",
     "text": [
      "WELT\n"
     ]
    }
   ],
   "source": [
    "# Test 2 - Change last letter\n",
    "# WELL -> WELT\n",
    "\n",
    "word = changeLetter(\"WELL\", 3, 'T')\n",
    "print(word)"
   ]
  },
  {
   "cell_type": "code",
   "execution_count": 132,
   "metadata": {},
   "outputs": [
    {
     "name": "stdout",
     "output_type": "stream",
     "text": [
      "HIM\n"
     ]
    }
   ],
   "source": [
    "# Test 3 - Change middle letter\n",
    "# HUM -> HIM\n",
    "\n",
    "word = changeLetter(\"HUM\", 1, 'I')\n",
    "print(word)"
   ]
  },
  {
   "cell_type": "markdown",
   "metadata": {},
   "source": [
    "#### Anagram"
   ]
  },
  {
   "cell_type": "code",
   "execution_count": 133,
   "metadata": {
    "collapsed": true
   },
   "outputs": [],
   "source": [
    "import itertools\n",
    "\n",
    "def getAnagrams(word):\n",
    "    return itertools.permutations(word)"
   ]
  },
  {
   "cell_type": "code",
   "execution_count": 134,
   "metadata": {},
   "outputs": [
    {
     "name": "stdout",
     "output_type": "stream",
     "text": [
      "STEAK\n",
      "STEKA\n",
      "STAEK\n",
      "STAKE\n",
      "STKEA\n",
      "STKAE\n",
      "SETAK\n",
      "SETKA\n",
      "SEATK\n",
      "SEAKT\n",
      "SEKTA\n",
      "SEKAT\n",
      "SATEK\n",
      "SATKE\n",
      "SAETK\n",
      "SAEKT\n",
      "SAKTE\n",
      "SAKET\n",
      "SKTEA\n",
      "SKTAE\n",
      "SKETA\n",
      "SKEAT\n",
      "SKATE\n",
      "SKAET\n",
      "TSEAK\n",
      "TSEKA\n",
      "TSAEK\n",
      "TSAKE\n",
      "TSKEA\n",
      "TSKAE\n",
      "TESAK\n",
      "TESKA\n",
      "TEASK\n",
      "TEAKS\n",
      "TEKSA\n",
      "TEKAS\n",
      "TASEK\n",
      "TASKE\n",
      "TAESK\n",
      "TAEKS\n",
      "TAKSE\n",
      "TAKES\n",
      "TKSEA\n",
      "TKSAE\n",
      "TKESA\n",
      "TKEAS\n",
      "TKASE\n",
      "TKAES\n",
      "ESTAK\n",
      "ESTKA\n",
      "ESATK\n",
      "ESAKT\n",
      "ESKTA\n",
      "ESKAT\n",
      "ETSAK\n",
      "ETSKA\n",
      "ETASK\n",
      "ETAKS\n",
      "ETKSA\n",
      "ETKAS\n",
      "EASTK\n",
      "EASKT\n",
      "EATSK\n",
      "EATKS\n",
      "EAKST\n",
      "EAKTS\n",
      "EKSTA\n",
      "EKSAT\n",
      "EKTSA\n",
      "EKTAS\n",
      "EKAST\n",
      "EKATS\n",
      "ASTEK\n",
      "ASTKE\n",
      "ASETK\n",
      "ASEKT\n",
      "ASKTE\n",
      "ASKET\n",
      "ATSEK\n",
      "ATSKE\n",
      "ATESK\n",
      "ATEKS\n",
      "ATKSE\n",
      "ATKES\n",
      "AESTK\n",
      "AESKT\n",
      "AETSK\n",
      "AETKS\n",
      "AEKST\n",
      "AEKTS\n",
      "AKSTE\n",
      "AKSET\n",
      "AKTSE\n",
      "AKTES\n",
      "AKEST\n",
      "AKETS\n",
      "KSTEA\n",
      "KSTAE\n",
      "KSETA\n",
      "KSEAT\n",
      "KSATE\n",
      "KSAET\n",
      "KTSEA\n",
      "KTSAE\n",
      "KTESA\n",
      "KTEAS\n",
      "KTASE\n",
      "KTAES\n",
      "KESTA\n",
      "KESAT\n",
      "KETSA\n",
      "KETAS\n",
      "KEAST\n",
      "KEATS\n",
      "KASTE\n",
      "KASET\n",
      "KATSE\n",
      "KATES\n",
      "KAEST\n",
      "KAETS\n"
     ]
    }
   ],
   "source": [
    "# Test 1\n",
    "# STEAK\n",
    "\n",
    "words = getAnagrams(\"STEAK\")\n",
    "for word in words:\n",
    "    word = \"\".join(word)\n",
    "    print(word)"
   ]
  },
  {
   "cell_type": "code",
   "execution_count": 135,
   "metadata": {},
   "outputs": [
    {
     "name": "stdout",
     "output_type": "stream",
     "text": [
      "STEAK\n",
      "STAKE\n",
      "SKATE\n"
     ]
    }
   ],
   "source": [
    "# Test 2 - Only words\n",
    "# STEAK\n",
    "\n",
    "words = getAnagrams(\"STEAK\")\n",
    "for word in words:\n",
    "        word = \"\".join(word)\n",
    "        if word.lower() in word_list:\n",
    "            print(word)"
   ]
  },
  {
   "cell_type": "markdown",
   "metadata": {},
   "source": [
    "#### State class"
   ]
  },
  {
   "cell_type": "code",
   "execution_count": 136,
   "metadata": {
    "collapsed": true
   },
   "outputs": [],
   "source": [
    "explored = set()\n",
    "\n",
    "class State: \n",
    "    def __init__(self, word, cost, distance):\n",
    "        self.word = word\n",
    "        self.cost = cost     \n",
    "        self.distance = distance"
   ]
  },
  {
   "cell_type": "markdown",
   "metadata": {},
   "source": [
    "#### Levenshtein Distance"
   ]
  },
  {
   "cell_type": "code",
   "execution_count": 137,
   "metadata": {
    "collapsed": true
   },
   "outputs": [],
   "source": [
    "# Taken from Wikipedia\n",
    "def distance(s1, s2):\n",
    "    # Base cases\n",
    "    if s1 == \"\":\n",
    "        return len(s2)\n",
    "    if s2 == \"\":\n",
    "        return len(s1)\n",
    "    if s1[-1] == s2[-1]:\n",
    "        cost = 0\n",
    "    else:\n",
    "        cost = 1\n",
    "        \n",
    "    res = min([distance(s1[:-1], s2)+1,\n",
    "              distance(s1, s2[:-1])+1,\n",
    "              distance(s1[:-1], s2[:-1])+cost])\n",
    "    \n",
    "    return res"
   ]
  },
  {
   "cell_type": "markdown",
   "metadata": {},
   "source": [
    "#### Get States from the addition operation"
   ]
  },
  {
   "cell_type": "code",
   "execution_count": 138,
   "metadata": {
    "collapsed": true
   },
   "outputs": [],
   "source": [
    "def getAddStates(state, states, cost, end_word):\n",
    "    for i in range(0, len(state.word)+1):\n",
    "        for j in range(ord('A'), ord('Z')+1):\n",
    "            new_word = addLetter(state.word, i, chr(j))  \n",
    "            if new_word.lower() in word_list and new_word not in explored:\n",
    "                new_state = State(new_word, state.cost + cost, distance(new_word, end_word)) \n",
    "                \n",
    "                states.append(new_state)"
   ]
  },
  {
   "cell_type": "code",
   "execution_count": 139,
   "metadata": {},
   "outputs": [
    {
     "name": "stdout",
     "output_type": "stream",
     "text": [
      "SWORD - 1 - 0\n",
      "WORLD - 1 - 2\n",
      "WORDY - 1 - 2\n"
     ]
    }
   ],
   "source": [
    "# Test\n",
    "states = []\n",
    "initial_state = State(\"WORD\", 0, distance(\"WORD\", \"SWORD\"))\n",
    "\n",
    "getAddStates(initial_state, states, 1, \"SWORD\")\n",
    "\n",
    "for state in states:\n",
    "    print(state.word + \" - \" + str(state.cost) + \" - \" + str(state.distance))"
   ]
  },
  {
   "cell_type": "markdown",
   "metadata": {},
   "source": [
    "#### Get States from the deletion operation"
   ]
  },
  {
   "cell_type": "code",
   "execution_count": 190,
   "metadata": {
    "collapsed": true
   },
   "outputs": [],
   "source": [
    "def getDeleteStates(state, states, cost, end_word):\n",
    "    for i in range(0, len(state.word)):\n",
    "        new_word = deleteLetter(state.word, i)  \n",
    "        if len(new_word) >= 3:\n",
    "            if new_word.lower() in word_list and new_word not in explored:\n",
    "                new_state = State(new_word, state.cost + cost, distance(new_word, end_word))             \n",
    "                states.append(new_state)"
   ]
  },
  {
   "cell_type": "code",
   "execution_count": 141,
   "metadata": {},
   "outputs": [
    {
     "name": "stdout",
     "output_type": "stream",
     "text": [
      "NORMA - 1 - 1\n"
     ]
    }
   ],
   "source": [
    "# Test\n",
    "states = []\n",
    "initial_state = State(\"NORMAL\", 0, distance(\"NORMAL\", \"NORM\"))\n",
    "\n",
    "getDeleteStates(initial_state, states, 1, \"NORM\")\n",
    "\n",
    "for state in states:\n",
    "    print(state.word + \" - \" + str(state.cost) + \" - \" + str(state.distance))"
   ]
  },
  {
   "cell_type": "markdown",
   "metadata": {},
   "source": [
    "#### Get States from the change operation"
   ]
  },
  {
   "cell_type": "code",
   "execution_count": 142,
   "metadata": {
    "collapsed": true
   },
   "outputs": [],
   "source": [
    "def getChangeStates(state, states, cost, end_word):\n",
    "    for i in range(0, len(state.word)):\n",
    "        for j in range(ord('A'), ord('Z')+1):\n",
    "            if state.word[i] != chr(j):\n",
    "                new_word = changeLetter(state.word, i, chr(j))  \n",
    "                if new_word.lower() in word_list and new_word not in explored:\n",
    "                    new_state = State(new_word, state.cost + cost, distance(new_word, end_word))                    \n",
    "                    states.append(new_state)"
   ]
  },
  {
   "cell_type": "code",
   "execution_count": 143,
   "metadata": {},
   "outputs": [
    {
     "name": "stdout",
     "output_type": "stream",
     "text": [
      "BORN - 1 - 0\n",
      "CORN - 1 - 1\n",
      "DORN - 1 - 1\n",
      "HORN - 1 - 1\n",
      "LORN - 1 - 1\n",
      "MORN - 1 - 1\n",
      "SORN - 1 - 1\n",
      "TORN - 1 - 1\n",
      "WARN - 1 - 2\n",
      "WOAN - 1 - 2\n",
      "WOON - 1 - 2\n",
      "WORD - 1 - 2\n",
      "WORE - 1 - 2\n",
      "WORK - 1 - 2\n",
      "WORM - 1 - 2\n",
      "WORT - 1 - 2\n"
     ]
    }
   ],
   "source": [
    "# Test\n",
    "states = []\n",
    "initial_state = State(\"WORN\", 0, distance(\"WORN\", \"BORN\"))\n",
    "\n",
    "getChangeStates(initial_state, states, 1, \"BORN\")\n",
    "\n",
    "for state in states:\n",
    "    print(state.word + \" - \" + str(state.cost) + \" - \" + str(state.distance))"
   ]
  },
  {
   "cell_type": "markdown",
   "metadata": {},
   "source": [
    "#### Get States from anagram operation"
   ]
  },
  {
   "cell_type": "code",
   "execution_count": 144,
   "metadata": {
    "collapsed": true
   },
   "outputs": [],
   "source": [
    "def getAnagramStates(state, states, cost, end_word):\n",
    "    new_words = getAnagrams(state.word)\n",
    "    for new_word in new_words:\n",
    "        new_word = \"\".join(new_word)\n",
    "        if new_word != state.word and new_word.lower() in word_list and new_word not in explored:\n",
    "            new_state = State(new_word, state.cost + cost, distance(new_word, end_word)) \n",
    "            states.append(new_state)           "
   ]
  },
  {
   "cell_type": "code",
   "execution_count": 145,
   "metadata": {},
   "outputs": [
    {
     "name": "stdout",
     "output_type": "stream",
     "text": [
      "STAKE - 1 - 0\n",
      "SKATE - 1 - 2\n"
     ]
    }
   ],
   "source": [
    "# Test\n",
    "states = []\n",
    "initial_state = State(\"STEAK\", 0, distance(\"STEAK\", \"STAKE\"))\n",
    "\n",
    "getAnagramStates(initial_state, states, 1, \"STAKE\")\n",
    "\n",
    "for state in states:\n",
    "    print(state.word + \" - \" + str(state.cost) + \" - \" + str(state.distance))"
   ]
  },
  {
   "cell_type": "markdown",
   "metadata": {},
   "source": [
    "#### Solution function - main loop"
   ]
  },
  {
   "cell_type": "code",
   "execution_count": 211,
   "metadata": {
    "collapsed": true
   },
   "outputs": [],
   "source": [
    "def solution(costs, begin_word, end_word):\n",
    "    \n",
    "    # Beginning word or ending word is not a word\n",
    "    if begin_word.lower() not in word_list or end_word.lower() not in word_list:\n",
    "        return -1\n",
    "    \n",
    "    # Beginning word or ending word smaller than 3 characters\n",
    "    if len(begin_word) < 3 or len(end_word) < 3:\n",
    "        return -1\n",
    "    \n",
    "    # Costs is not a valid input\n",
    "    if len(costs) != 4:\n",
    "        return -1\n",
    "    if not costs.isdigit():\n",
    "        return -1\n",
    "    \n",
    "    \n",
    "    # Define function costs\n",
    "    add_cost = int(costs[0])\n",
    "    delete_cost = int(costs[1])\n",
    "    change_cost = int(costs[2])\n",
    "    anagram_cost = int(costs[3])\n",
    "    \n",
    "    # Initial State\n",
    "    init_state = State(begin_word, 0, distance(begin_word, end_word))\n",
    "    \n",
    "    # Define possible states\n",
    "    states = []\n",
    "    getAddStates(init_state, states, add_cost, end_word)\n",
    "    getDeleteStates(init_state, states, delete_cost, end_word)\n",
    "    getChangeStates(init_state, states, change_cost, end_word)\n",
    "    getAnagramStates(init_state, states, anagram_cost, end_word)\n",
    "    \n",
    "    # Explored states\n",
    "    explored.add(init_state.word)\n",
    "    \n",
    "    # Loop until goal or states = []\n",
    "    while states != []:\n",
    "    \n",
    "        # Find lowest cost state\n",
    "        states = sorted(states, key=lambda state: state.distance, reverse=True)\n",
    "        states = sorted(states, key=lambda state: state.cost+state.distance, reverse=True)\n",
    "        \n",
    "        # DEBUG\n",
    "        #for state in states:\n",
    "            #print(state.word + \" - \" + str(state.cost) + \" - \" + str(state.distance))     \n",
    "        \n",
    "        # Pop lowest state\n",
    "        while True:\n",
    "            new_state = states.pop()\n",
    "            \n",
    "            if new_state.word not in explored:\n",
    "                explored.add(new_state.word)\n",
    "                break\n",
    "        \n",
    "        # DEBUG\n",
    "        #print(\"\")\n",
    "        print(new_state.word + \" - \" + str(new_state.cost) + \" - \" + str(new_state.distance))\n",
    "        #input()\n",
    "\n",
    "        # Check is state is goal state\n",
    "        if new_state.word == end_word:\n",
    "            return new_state.cost\n",
    "        \n",
    "        # Expand new_state\n",
    "        #print(\"Start Add\")\n",
    "        getAddStates(new_state, states, add_cost, end_word)\n",
    "        #print(\"Start Delete\")\n",
    "        getDeleteStates(new_state, states, delete_cost, end_word)\n",
    "        #print(\"Start Change\")\n",
    "        getChangeStates(new_state, states, change_cost, end_word)\n",
    "        #print(\"Start Anagram\")\n",
    "        getAnagramStates(new_state, states, anagram_cost, end_word)\n",
    "    \n",
    "    return -1"
   ]
  },
  {
   "cell_type": "code",
   "execution_count": 198,
   "metadata": {
    "collapsed": true
   },
   "outputs": [],
   "source": [
    "# Reset explored\n",
    "explored = set()"
   ]
  },
  {
   "cell_type": "code",
   "execution_count": 199,
   "metadata": {},
   "outputs": [
    {
     "name": "stdout",
     "output_type": "stream",
     "text": [
      "-1\n"
     ]
    }
   ],
   "source": [
    "# Test\n",
    "# 1315\n",
    "# HEALTH\n",
    "# HANDS\n",
    "\n",
    "print(solution(\"1315\", \"HEALTH\", \"HANDS\"))"
   ]
  },
  {
   "cell_type": "code",
   "execution_count": 200,
   "metadata": {},
   "outputs": [
    {
     "data": {
      "text/plain": [
       "False"
      ]
     },
     "execution_count": 200,
     "metadata": {},
     "output_type": "execute_result"
    }
   ],
   "source": [
    "\"hands\" in word_list"
   ]
  },
  {
   "cell_type": "code",
   "execution_count": 218,
   "metadata": {
    "collapsed": true
   },
   "outputs": [],
   "source": [
    "# Reset explored\n",
    "explored = set()"
   ]
  },
  {
   "cell_type": "code",
   "execution_count": 219,
   "metadata": {},
   "outputs": [
    {
     "name": "stdout",
     "output_type": "stream",
     "text": [
      "MATE - 3 - 0\n",
      "3\n"
     ]
    }
   ],
   "source": [
    "# Test\n",
    "# 1313\n",
    "# HEALTH\n",
    "# HANDS\n",
    "\n",
    "print(solution(\"1913\", \"TEAM\", \"MATE\"))"
   ]
  },
  {
   "cell_type": "code",
   "execution_count": 216,
   "metadata": {},
   "outputs": [],
   "source": [
    "# Reset explored\n",
    "explored = set()"
   ]
  },
  {
   "cell_type": "code",
   "execution_count": 217,
   "metadata": {},
   "outputs": [
    {
     "name": "stdout",
     "output_type": "stream",
     "text": [
      "GRAME - 1 - 1\n",
      "GRADE - 4 - 0\n",
      "4\n"
     ]
    }
   ],
   "source": [
    "# Test\n",
    "# 1234\n",
    "# GAME\n",
    "# GRADE\n",
    "\n",
    "print(solution(\"1234\", \"GAME\", \"GRADE\"))"
   ]
  },
  {
   "cell_type": "code",
   "execution_count": 214,
   "metadata": {
    "collapsed": true
   },
   "outputs": [],
   "source": [
    "# Reset explored\n",
    "explored = set()"
   ]
  },
  {
   "cell_type": "code",
   "execution_count": 215,
   "metadata": {},
   "outputs": [
    {
     "name": "stdout",
     "output_type": "stream",
     "text": [
      "-1\n"
     ]
    }
   ],
   "source": [
    "# Test\n",
    "# 7152\n",
    "# ZIP\n",
    "# ME\n",
    "\n",
    "print(solution(\"7152\", \"ZIP\", \"ME\"))"
   ]
  },
  {
   "cell_type": "code",
   "execution_count": 212,
   "metadata": {
    "collapsed": true
   },
   "outputs": [],
   "source": [
    "# Reset explored\n",
    "explored = set()"
   ]
  },
  {
   "cell_type": "code",
   "execution_count": 213,
   "metadata": {},
   "outputs": [
    {
     "name": "stdout",
     "output_type": "stream",
     "text": [
      "GAM - 1 - 3\n",
      "AME - 1 - 3\n",
      "MAGE - 2 - 3\n",
      "GADE - 5 - 1\n",
      "MAE - 3 - 3\n",
      "AGE - 3 - 3\n",
      "EGMA - 2 - 4\n",
      "GAZE - 5 - 2\n",
      "GAVE - 5 - 2\n",
      "GATE - 5 - 2\n",
      "GARE - 5 - 2\n",
      "GAPE - 5 - 2\n",
      "GANE - 5 - 2\n",
      "GALE - 5 - 2\n",
      "GAGE - 5 - 2\n",
      "RAME - 5 - 2\n",
      "MAG - 3 - 4\n",
      "GRAME - 7 - 1\n",
      "GAD - 6 - 2\n",
      "ADE - 6 - 2\n",
      "GAMY - 5 - 3\n",
      "GAMP - 5 - 3\n",
      "GAMB - 5 - 3\n",
      "WAME - 5 - 3\n",
      "TAME - 5 - 3\n",
      "SAME - 5 - 3\n",
      "NAME - 5 - 3\n",
      "LAME - 5 - 3\n",
      "KAME - 5 - 3\n",
      "HAME - 5 - 3\n",
      "FAME - 5 - 3\n",
      "DAME - 5 - 3\n",
      "CAME - 5 - 3\n",
      "MADE - 7 - 2\n",
      "RAGE - 7 - 2\n",
      "DAE - 6 - 3\n",
      "FAE - 6 - 3\n",
      "NAE - 6 - 3\n",
      "TAE - 6 - 3\n",
      "WAE - 6 - 3\n",
      "GAB - 6 - 3\n",
      "GAP - 6 - 3\n",
      "GAY - 6 - 3\n",
      "RAM - 6 - 3\n",
      "GAG - 6 - 3\n",
      "GAL - 6 - 3\n",
      "ALE - 6 - 3\n",
      "GAN - 6 - 3\n",
      "APE - 6 - 3\n",
      "GAR - 6 - 3\n",
      "ARE - 6 - 3\n",
      "GAT - 6 - 3\n",
      "ATE - 6 - 3\n",
      "AVE - 6 - 3\n",
      "GAZ - 6 - 3\n",
      "AYE - 6 - 3\n",
      "AXE - 6 - 3\n",
      "AWE - 6 - 3\n",
      "ASE - 6 - 3\n",
      "AKE - 6 - 3\n",
      "ACE - 6 - 3\n",
      "GAW - 6 - 3\n",
      "GAU - 6 - 3\n",
      "GAS - 6 - 3\n",
      "GAJ - 6 - 3\n",
      "GRA - 8 - 2\n",
      "GRAM - 8 - 2\n",
      "MACE - 7 - 3\n",
      "MEAD - 7 - 3\n",
      "MAKE - 7 - 3\n",
      "MALE - 7 - 3\n",
      "MANE - 7 - 3\n",
      "MATE - 7 - 3\n",
      "MARE - 7 - 3\n",
      "GEAL - 7 - 3\n",
      "GEAN - 7 - 3\n",
      "GAEN - 7 - 3\n",
      "PAGE - 7 - 3\n",
      "AGRE - 7 - 3\n",
      "GEAR - 7 - 3\n",
      "GEAT - 7 - 3\n",
      "GAET - 7 - 3\n",
      "VAGE - 7 - 3\n",
      "EGAD - 7 - 3\n",
      "MAZE - 7 - 3\n",
      "WAGE - 7 - 3\n",
      "SAGE - 7 - 3\n",
      "FAGE - 7 - 3\n",
      "CAGE - 7 - 3\n",
      "CAM - 6 - 4\n",
      "DAM - 6 - 4\n",
      "FAM - 6 - 4\n",
      "HAM - 6 - 4\n",
      "LAM - 6 - 4\n",
      "NAM - 6 - 4\n",
      "SAM - 6 - 4\n",
      "TAM - 6 - 4\n",
      "AMY - 6 - 4\n",
      "AMT - 6 - 4\n",
      "AMI - 6 - 4\n",
      "AMA - 6 - 4\n",
      "UME - 6 - 4\n",
      "EME - 6 - 4\n",
      "GYM - 6 - 4\n",
      "GUM - 6 - 4\n",
      "GIM - 6 - 4\n",
      "GEM - 6 - 4\n",
      "YAM - 6 - 4\n",
      "PAM - 6 - 4\n",
      "OAM - 6 - 4\n",
      "JAM - 6 - 4\n",
      "BAM - 6 - 4\n",
      "AAM - 6 - 4\n",
      "MAD - 8 - 3\n",
      "ERA - 8 - 3\n",
      "RAG - 8 - 3\n",
      "BAE - 8 - 3\n",
      "GAWM - 8 - 3\n",
      "GAUM - 8 - 3\n",
      "GLAM - 8 - 3\n",
      "ACME - 7 - 4\n",
      "AHEM - 7 - 4\n",
      "HAEM - 7 - 4\n",
      "MEAK - 7 - 4\n",
      "MEAL - 7 - 4\n",
      "ALEM - 7 - 4\n",
      "ALME - 7 - 4\n",
      "LEAM - 7 - 4\n",
      "ENAM - 7 - 4\n",
      "MEAN - 7 - 4\n",
      "AMEN - 7 - 4\n",
      "ASEM - 7 - 4\n",
      "SEAM - 7 - 4\n",
      "MEAT - 7 - 4\n",
      "TEAM - 7 - 4\n",
      "WEAM - 7 - 4\n",
      "REAM - 7 - 4\n",
      "AGEN - 7 - 4\n",
      "GENA - 7 - 4\n",
      "PEAG - 7 - 4\n",
      "AGER - 7 - 4\n",
      "GETA - 7 - 4\n",
      "AGED - 7 - 4\n",
      "GED - 8 - 3\n",
      "MAGI - 7 - 4\n",
      "GRADE - 12 - 0\n",
      "12\n"
     ]
    }
   ],
   "source": [
    "# Test\n",
    "# 7152\n",
    "# GAME\n",
    "# GRADE\n",
    "\n",
    "print(solution(\"7152\", \"GAME\", \"GRADE\"))"
   ]
  },
  {
   "cell_type": "code",
   "execution_count": null,
   "metadata": {
    "collapsed": true
   },
   "outputs": [],
   "source": []
  }
 ],
 "metadata": {
  "kernelspec": {
   "display_name": "Python 3",
   "language": "python",
   "name": "python3"
  },
  "language_info": {
   "codemirror_mode": {
    "name": "ipython",
    "version": 3
   },
   "file_extension": ".py",
   "mimetype": "text/x-python",
   "name": "python",
   "nbconvert_exporter": "python",
   "pygments_lexer": "ipython3",
   "version": "3.6.2"
  }
 },
 "nbformat": 4,
 "nbformat_minor": 2
}
